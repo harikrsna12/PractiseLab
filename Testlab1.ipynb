{
  "nbformat": 4,
  "nbformat_minor": 0,
  "metadata": {
    "colab": {
      "provenance": [],
      "authorship_tag": "ABX9TyP48ABm76aeLl3bnncuRTuH",
      "include_colab_link": true
    },
    "kernelspec": {
      "name": "python3",
      "display_name": "Python 3"
    },
    "language_info": {
      "name": "python"
    }
  },
  "cells": [
    {
      "cell_type": "markdown",
      "metadata": {
        "id": "view-in-github",
        "colab_type": "text"
      },
      "source": [
        "<a href=\"https://colab.research.google.com/github/harikrsna12/PractiseLab/blob/master/Testlab1.ipynb\" target=\"_parent\"><img src=\"https://colab.research.google.com/assets/colab-badge.svg\" alt=\"Open In Colab\"/></a>"
      ]
    },
    {
      "cell_type": "code",
      "execution_count": 1,
      "metadata": {
        "colab": {
          "base_uri": "https://localhost:8080/"
        },
        "id": "M-hxokegObaO",
        "outputId": "c82e106b-1b3c-446a-8c11-07431788d635"
      },
      "outputs": [
        {
          "output_type": "stream",
          "name": "stdout",
          "text": [
            "80\n"
          ]
        }
      ],
      "source": [
        "class Graph():\n",
        "    def __init__(self, id):\n",
        "        self.id = id\n",
        "        self.id = 80\n",
        "\n",
        "\n",
        "val = Graph(200)\n",
        "print(val.id)"
      ]
    },
    {
      "cell_type": "code",
      "metadata": {
        "colab": {
          "base_uri": "https://localhost:8080/"
        },
        "id": "e1e67ebe",
        "outputId": "5bd75040-1316-4bc5-b0cc-54b398b9817f"
      },
      "source": [
        "class Graph():\n",
        "    # Adding self back to the method definition\n",
        "    def __init__(self, id):\n",
        "        # Using self.id to refer to the instance's attribute\n",
        "        self.id = id\n",
        "        self.id = 80\n",
        "\n",
        "\n",
        "val = Graph(200)\n",
        "print(val.id)"
      ],
      "execution_count": 3,
      "outputs": [
        {
          "output_type": "stream",
          "name": "stdout",
          "text": [
            "80\n"
          ]
        }
      ]
    }
  ]
}